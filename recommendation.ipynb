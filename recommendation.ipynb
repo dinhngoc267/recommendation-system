{
  "nbformat": 4,
  "nbformat_minor": 0,
  "metadata": {
    "orig_nbformat": 2,
    "kernelspec": {
      "name": "python3",
      "display_name": "Python 3"
    },
    "metadata": {
      "interpreter": {
        "hash": "916dbcbb3f70747c44a77c7bcd40155683ae19c65e1c03b4aa3499c5328201f1"
      }
    },
    "colab": {
      "name": "recommendation.ipynb",
      "provenance": [],
      "collapsed_sections": []
    },
    "accelerator": "GPU",
    "language_info": {
      "name": "python"
    }
  },
  "cells": [
    {
      "cell_type": "markdown",
      "metadata": {
        "id": "hD3e-ZH4Bxu5"
      },
      "source": [
        "# Recommendation System\n",
        "\n",
        "In this project I will build a Recommendation System. Purpose of this system:\n",
        "\n",
        "> Recommend posts to a user\n",
        "\n",
        "> Recommend posts when given a post"
      ]
    },
    {
      "cell_type": "code",
      "metadata": {
        "colab": {
          "base_uri": "https://localhost:8080/"
        },
        "id": "CsKzxeNdB9Hl",
        "outputId": "24c4afb4-7273-478a-d338-374cb993766f"
      },
      "source": [
        "from google.colab import drive\n",
        "drive.mount('/content/drive')"
      ],
      "execution_count": null,
      "outputs": [
        {
          "output_type": "stream",
          "text": [
            "Mounted at /content/drive\n"
          ],
          "name": "stdout"
        }
      ]
    },
    {
      "cell_type": "markdown",
      "metadata": {
        "id": "MzaoJ1uqBxvK"
      },
      "source": [
        "# Import Lib"
      ]
    },
    {
      "cell_type": "code",
      "metadata": {
        "colab": {
          "base_uri": "https://localhost:8080/"
        },
        "id": "ALvV6g7L_B9A",
        "outputId": "08099697-dfbf-4647-ee77-edde181ae4db"
      },
      "source": [
        "!pip install -q tf-models-official==2.4.0"
      ],
      "execution_count": null,
      "outputs": [
        {
          "output_type": "stream",
          "text": [
            "\u001b[K     |████████████████████████████████| 1.1MB 7.3MB/s \n",
            "\u001b[K     |████████████████████████████████| 1.2MB 36.9MB/s \n",
            "\u001b[K     |████████████████████████████████| 102kB 12.7MB/s \n",
            "\u001b[K     |████████████████████████████████| 358kB 41.4MB/s \n",
            "\u001b[K     |████████████████████████████████| 174kB 52.5MB/s \n",
            "\u001b[K     |████████████████████████████████| 645kB 51.0MB/s \n",
            "\u001b[K     |████████████████████████████████| 706kB 51.5MB/s \n",
            "\u001b[K     |████████████████████████████████| 51kB 7.6MB/s \n",
            "\u001b[K     |████████████████████████████████| 38.2MB 78kB/s \n",
            "\u001b[?25h  Building wheel for py-cpuinfo (setup.py) ... \u001b[?25l\u001b[?25hdone\n",
            "  Building wheel for seqeval (setup.py) ... \u001b[?25l\u001b[?25hdone\n"
          ],
          "name": "stdout"
        }
      ]
    },
    {
      "cell_type": "code",
      "metadata": {
        "id": "vHgSeeuYBxvN"
      },
      "source": [
        "import pandas as pd\n",
        "import numpy as np\n",
        "import sklearn\n",
        "from sklearn.metrics.pairwise import cosine_similarity\n",
        "from scipy import sparse\n",
        "import copy\n",
        "\n",
        "import tensorflow as tf \n",
        "import tensorflow_hub as hub \n",
        "import tensorflow_datasets as tfds \n",
        "\n",
        "import official.nlp.bert.tokenization as tokenization\n",
        "import glob\n",
        "from tqdm import tqdm\n",
        "import keras\n",
        "from keras.layers import *"
      ],
      "execution_count": null,
      "outputs": []
    },
    {
      "cell_type": "markdown",
      "metadata": {
        "id": "MopGhPCDBxvP"
      },
      "source": [
        "# Load Data"
      ]
    },
    {
      "cell_type": "code",
      "metadata": {
        "id": "mnvyeiwUBxvQ"
      },
      "source": [
        "posts_df = pd.read_csv('/content/drive/MyDrive/recomendation-system/posts.csv')\n",
        "users_df = pd.read_csv('/content/drive/MyDrive/recomendation-system/users.csv')\n",
        "views_df = pd.read_csv('/content/drive/MyDrive/recomendation-system/views.csv')"
      ],
      "execution_count": null,
      "outputs": []
    },
    {
      "cell_type": "markdown",
      "metadata": {
        "id": "TN_ryHaIEeH0"
      },
      "source": [
        "## Exploratory Data Analysis"
      ]
    },
    {
      "cell_type": "markdown",
      "metadata": {
        "id": "EChhO5_xEvsa"
      },
      "source": [
        "### 1. Posts "
      ]
    },
    {
      "cell_type": "code",
      "metadata": {
        "colab": {
          "base_uri": "https://localhost:8080/",
          "height": 206
        },
        "id": "P_zDS1gCBxvS",
        "outputId": "d5a40dfa-5277-4bdf-99af-0ddfca2f17ab"
      },
      "source": [
        "posts_df.head()"
      ],
      "execution_count": null,
      "outputs": [
        {
          "output_type": "execute_result",
          "data": {
            "text/html": [
              "<div>\n",
              "<style scoped>\n",
              "    .dataframe tbody tr th:only-of-type {\n",
              "        vertical-align: middle;\n",
              "    }\n",
              "\n",
              "    .dataframe tbody tr th {\n",
              "        vertical-align: top;\n",
              "    }\n",
              "\n",
              "    .dataframe thead th {\n",
              "        text-align: right;\n",
              "    }\n",
              "</style>\n",
              "<table border=\"1\" class=\"dataframe\">\n",
              "  <thead>\n",
              "    <tr style=\"text-align: right;\">\n",
              "      <th></th>\n",
              "      <th>_id</th>\n",
              "      <th>title</th>\n",
              "      <th>category</th>\n",
              "      <th>post_type</th>\n",
              "    </tr>\n",
              "  </thead>\n",
              "  <tbody>\n",
              "    <tr>\n",
              "      <th>0</th>\n",
              "      <td>5d62abaa65218653a132c956</td>\n",
              "      <td>hello there</td>\n",
              "      <td>Plant Biotechnology</td>\n",
              "      <td>blog</td>\n",
              "    </tr>\n",
              "    <tr>\n",
              "      <th>1</th>\n",
              "      <td>5d6d39567fa40e1417a4931c</td>\n",
              "      <td>Ml and AI</td>\n",
              "      <td>Artificial Intelligence|Machine Learning|Infor...</td>\n",
              "      <td>blog</td>\n",
              "    </tr>\n",
              "    <tr>\n",
              "      <th>2</th>\n",
              "      <td>5d7d23315720533e15c3b1ee</td>\n",
              "      <td>What is an Operating System ?</td>\n",
              "      <td>Operating Systems</td>\n",
              "      <td>blog</td>\n",
              "    </tr>\n",
              "    <tr>\n",
              "      <th>3</th>\n",
              "      <td>5d7d405e5720533e15c3b1f3</td>\n",
              "      <td>Lord Shiva</td>\n",
              "      <td>Drawings</td>\n",
              "      <td>artwork</td>\n",
              "    </tr>\n",
              "    <tr>\n",
              "      <th>4</th>\n",
              "      <td>5d80dfbc6c53455f896e600e</td>\n",
              "      <td>How Competition law evolved?</td>\n",
              "      <td>Competition Laws</td>\n",
              "      <td>blog</td>\n",
              "    </tr>\n",
              "  </tbody>\n",
              "</table>\n",
              "</div>"
            ],
            "text/plain": [
              "                        _id  ...  post_type\n",
              "0  5d62abaa65218653a132c956  ...       blog\n",
              "1  5d6d39567fa40e1417a4931c  ...       blog\n",
              "2  5d7d23315720533e15c3b1ee  ...       blog\n",
              "3  5d7d405e5720533e15c3b1f3  ...    artwork\n",
              "4  5d80dfbc6c53455f896e600e  ...       blog\n",
              "\n",
              "[5 rows x 4 columns]"
            ]
          },
          "metadata": {
            "tags": []
          },
          "execution_count": 7
        }
      ]
    },
    {
      "cell_type": "code",
      "metadata": {
        "colab": {
          "base_uri": "https://localhost:8080/"
        },
        "id": "X7M8-b7NE6eF",
        "outputId": "d947b0c6-2b32-4790-e150-1f1b1bcb233e"
      },
      "source": [
        "posts_df.isnull().sum()"
      ],
      "execution_count": null,
      "outputs": [
        {
          "output_type": "execute_result",
          "data": {
            "text/plain": [
              "_id            0\n",
              "title          0\n",
              "category      28\n",
              " post_type     0\n",
              "dtype: int64"
            ]
          },
          "metadata": {
            "tags": []
          },
          "execution_count": 8
        }
      ]
    },
    {
      "cell_type": "code",
      "metadata": {
        "colab": {
          "base_uri": "https://localhost:8080/"
        },
        "id": "5Z6wHVZKFkeX",
        "outputId": "fdd70802-3af1-4242-c0b7-6adb7b88821c"
      },
      "source": [
        "posts_df.category.value_counts()"
      ],
      "execution_count": null,
      "outputs": [
        {
          "output_type": "execute_result",
          "data": {
            "text/plain": [
              "Photography                                                                               81\n",
              "Drawings                                                                                  47\n",
              "Painting                                                                                  20\n",
              "Visual Arts                                                                               10\n",
              "Computer Technology|Computer Application|Information Technology                            7\n",
              "                                                                                          ..\n",
              "Programming languages                                                                      1\n",
              "Psycholgy|Child Development                                                                1\n",
              "Accounting|Partnership Accounting|Corporate Accounting|Accounting Theory And Practices     1\n",
              "Biotechnology|Environmental Biotechnology                                                  1\n",
              "Auditing|Cost Audit                                                                        1\n",
              "Name: category, Length: 231, dtype: int64"
            ]
          },
          "metadata": {
            "tags": []
          },
          "execution_count": 19
        }
      ]
    },
    {
      "cell_type": "markdown",
      "metadata": {
        "id": "qX-Zi69LKlBC"
      },
      "source": [
        "> There are more than 231 categories. The category has most posts is `Photography` "
      ]
    },
    {
      "cell_type": "code",
      "metadata": {
        "colab": {
          "base_uri": "https://localhost:8080/",
          "height": 483
        },
        "id": "YCJI5KihIoyC",
        "outputId": "ddda3604-115c-4b1a-81de-d96e2a044ed7"
      },
      "source": [
        "import matplotlib.pyplot as plt\n",
        "a = posts_df.category.value_counts()\n",
        "fig = plt.figure(figsize=(20, 8))\n",
        "cats = list(dict(a).keys())[:5]\n",
        "posts = list(dict(a).values())[:5]\n",
        "plt.bar(cats,posts)\n",
        "plt.show()"
      ],
      "execution_count": null,
      "outputs": [
        {
          "output_type": "display_data",
          "data": {
            "image/png": "[encoded data removed]",
            "text/plain": [
              "<Figure size 1440x576 with 1 Axes>"
            ]
          },
          "metadata": {
            "tags": [],
            "needs_background": "light"
          }
        }
      ]
    },
    {
      "cell_type": "markdown",
      "metadata": {
        "id": "kiz4nGBtL6Qg"
      },
      "source": [
        "### 2. Users "
      ]
    },
    {
      "cell_type": "code",
      "metadata": {
        "colab": {
          "base_uri": "https://localhost:8080/"
        },
        "id": "Trtxr5fOBxvX",
        "outputId": "7cfd7533-33f6-4208-a019-38b7a42bd75e"
      },
      "source": [
        "users_df.head()"
      ],
      "execution_count": null,
      "outputs": [
        {
          "output_type": "execute_result",
          "data": {
            "text/html": [
              "<div>\n",
              "<style scoped>\n",
              "    .dataframe tbody tr th:only-of-type {\n",
              "        vertical-align: middle;\n",
              "    }\n",
              "\n",
              "    .dataframe tbody tr th {\n",
              "        vertical-align: top;\n",
              "    }\n",
              "\n",
              "    .dataframe thead th {\n",
              "        text-align: right;\n",
              "    }\n",
              "</style>\n",
              "<table border=\"1\" class=\"dataframe\">\n",
              "  <thead>\n",
              "    <tr style=\"text-align: right;\">\n",
              "      <th></th>\n",
              "      <th>_id</th>\n",
              "      <th>name</th>\n",
              "      <th>gender</th>\n",
              "      <th>academics</th>\n",
              "    </tr>\n",
              "  </thead>\n",
              "  <tbody>\n",
              "    <tr>\n",
              "      <th>0</th>\n",
              "      <td>5d60098a653a331687083238</td>\n",
              "      <td>Nivesh Singh Chauhan</td>\n",
              "      <td>male</td>\n",
              "      <td>undergraduate</td>\n",
              "    </tr>\n",
              "    <tr>\n",
              "      <th>1</th>\n",
              "      <td>5d610ae1653a331687083239</td>\n",
              "      <td>Gaurav Sharma</td>\n",
              "      <td>male</td>\n",
              "      <td>graduate</td>\n",
              "    </tr>\n",
              "    <tr>\n",
              "      <th>2</th>\n",
              "      <td>5d618359fc5fcf3bdd9a0910</td>\n",
              "      <td>Akshay Mishra</td>\n",
              "      <td>male</td>\n",
              "      <td>undergraduate</td>\n",
              "    </tr>\n",
              "    <tr>\n",
              "      <th>3</th>\n",
              "      <td>5d6d2bb87fa40e1417a49315</td>\n",
              "      <td>Saksham Mathur</td>\n",
              "      <td>male</td>\n",
              "      <td>undergraduate</td>\n",
              "    </tr>\n",
              "    <tr>\n",
              "      <th>4</th>\n",
              "      <td>5d7c994d5720533e15c3b1e9</td>\n",
              "      <td>Varun Chowhan</td>\n",
              "      <td>male</td>\n",
              "      <td>undergraduate</td>\n",
              "    </tr>\n",
              "  </tbody>\n",
              "</table>\n",
              "</div>"
            ],
            "text/plain": [
              "                        _id                  name gender      academics\n",
              "0  5d60098a653a331687083238  Nivesh Singh Chauhan   male  undergraduate\n",
              "1  5d610ae1653a331687083239         Gaurav Sharma   male       graduate\n",
              "2  5d618359fc5fcf3bdd9a0910         Akshay Mishra   male  undergraduate\n",
              "3  5d6d2bb87fa40e1417a49315        Saksham Mathur   male  undergraduate\n",
              "4  5d7c994d5720533e15c3b1e9         Varun Chowhan   male  undergraduate"
            ]
          },
          "metadata": {
            "tags": []
          },
          "execution_count": 37
        }
      ]
    },
    {
      "cell_type": "code",
      "metadata": {
        "id": "sBSS-5VGME5j"
      },
      "source": [
        "male = users_df[users_df['gender']=='male']\n",
        "male_gradutate = male[male['academics']=='graduate']\n",
        "male_undergraduate = male[male['academics']=='undergraduate']\n",
        "\n",
        "female = users_df[users_df['gender']=='female']\n",
        "female_gradutate = male[male['academics']=='graduate']\n",
        "female_undergraduate = male[male['academics']=='undergraduate']"
      ],
      "execution_count": null,
      "outputs": []
    },
    {
      "cell_type": "code",
      "metadata": {
        "colab": {
          "base_uri": "https://localhost:8080/"
        },
        "id": "fNsDapJ8MNJP",
        "outputId": "4df24f5f-52a1-4f7b-f3a1-28baa3954fe3"
      },
      "source": [
        "users_df"
      ],
      "execution_count": null,
      "outputs": [
        {
          "output_type": "execute_result",
          "data": {
            "text/html": [
              "<div>\n",
              "<style scoped>\n",
              "    .dataframe tbody tr th:only-of-type {\n",
              "        vertical-align: middle;\n",
              "    }\n",
              "\n",
              "    .dataframe tbody tr th {\n",
              "        vertical-align: top;\n",
              "    }\n",
              "\n",
              "    .dataframe thead th {\n",
              "        text-align: right;\n",
              "    }\n",
              "</style>\n",
              "<table border=\"1\" class=\"dataframe\">\n",
              "  <thead>\n",
              "    <tr style=\"text-align: right;\">\n",
              "      <th></th>\n",
              "      <th>_id</th>\n",
              "      <th>name</th>\n",
              "      <th>gender</th>\n",
              "      <th>academics</th>\n",
              "    </tr>\n",
              "  </thead>\n",
              "  <tbody>\n",
              "    <tr>\n",
              "      <th>0</th>\n",
              "      <td>5d60098a653a331687083238</td>\n",
              "      <td>Nivesh Singh Chauhan</td>\n",
              "      <td>male</td>\n",
              "      <td>undergraduate</td>\n",
              "    </tr>\n",
              "    <tr>\n",
              "      <th>1</th>\n",
              "      <td>5d610ae1653a331687083239</td>\n",
              "      <td>Gaurav Sharma</td>\n",
              "      <td>male</td>\n",
              "      <td>graduate</td>\n",
              "    </tr>\n",
              "    <tr>\n",
              "      <th>2</th>\n",
              "      <td>5d618359fc5fcf3bdd9a0910</td>\n",
              "      <td>Akshay Mishra</td>\n",
              "      <td>male</td>\n",
              "      <td>undergraduate</td>\n",
              "    </tr>\n",
              "    <tr>\n",
              "      <th>3</th>\n",
              "      <td>5d6d2bb87fa40e1417a49315</td>\n",
              "      <td>Saksham Mathur</td>\n",
              "      <td>male</td>\n",
              "      <td>undergraduate</td>\n",
              "    </tr>\n",
              "    <tr>\n",
              "      <th>4</th>\n",
              "      <td>5d7c994d5720533e15c3b1e9</td>\n",
              "      <td>Varun Chowhan</td>\n",
              "      <td>male</td>\n",
              "      <td>undergraduate</td>\n",
              "    </tr>\n",
              "    <tr>\n",
              "      <th>...</th>\n",
              "      <td>...</td>\n",
              "      <td>...</td>\n",
              "      <td>...</td>\n",
              "      <td>...</td>\n",
              "    </tr>\n",
              "    <tr>\n",
              "      <th>113</th>\n",
              "      <td>5ed35aa376027d35905cca67</td>\n",
              "      <td>Steve</td>\n",
              "      <td>male</td>\n",
              "      <td>graduate</td>\n",
              "    </tr>\n",
              "    <tr>\n",
              "      <th>114</th>\n",
              "      <td>5ed3737976027d35905ccaa2</td>\n",
              "      <td>Himanshu Singh</td>\n",
              "      <td>male</td>\n",
              "      <td>undergraduate</td>\n",
              "    </tr>\n",
              "    <tr>\n",
              "      <th>115</th>\n",
              "      <td>5ed3748576027d35905ccaab</td>\n",
              "      <td>Parth Vijay</td>\n",
              "      <td>male</td>\n",
              "      <td>undergraduate</td>\n",
              "    </tr>\n",
              "    <tr>\n",
              "      <th>116</th>\n",
              "      <td>5ed3cbcbbd514d602c1530a7</td>\n",
              "      <td>Abhishek Mishra</td>\n",
              "      <td>male</td>\n",
              "      <td>undergraduate</td>\n",
              "    </tr>\n",
              "    <tr>\n",
              "      <th>117</th>\n",
              "      <td>5ed3e898bd514d602c1530de</td>\n",
              "      <td>gauri raskar</td>\n",
              "      <td>female</td>\n",
              "      <td>graduate</td>\n",
              "    </tr>\n",
              "  </tbody>\n",
              "</table>\n",
              "<p>118 rows × 4 columns</p>\n",
              "</div>"
            ],
            "text/plain": [
              "                          _id                  name  gender      academics\n",
              "0    5d60098a653a331687083238  Nivesh Singh Chauhan    male  undergraduate\n",
              "1    5d610ae1653a331687083239         Gaurav Sharma    male       graduate\n",
              "2    5d618359fc5fcf3bdd9a0910         Akshay Mishra    male  undergraduate\n",
              "3    5d6d2bb87fa40e1417a49315        Saksham Mathur    male  undergraduate\n",
              "4    5d7c994d5720533e15c3b1e9         Varun Chowhan    male  undergraduate\n",
              "..                        ...                   ...     ...            ...\n",
              "113  5ed35aa376027d35905cca67                 Steve    male       graduate\n",
              "114  5ed3737976027d35905ccaa2        Himanshu Singh    male  undergraduate\n",
              "115  5ed3748576027d35905ccaab           Parth Vijay    male  undergraduate\n",
              "116  5ed3cbcbbd514d602c1530a7       Abhishek Mishra    male  undergraduate\n",
              "117  5ed3e898bd514d602c1530de          gauri raskar  female       graduate\n",
              "\n",
              "[118 rows x 4 columns]"
            ]
          },
          "metadata": {
            "tags": []
          },
          "execution_count": 40
        }
      ]
    },
    {
      "cell_type": "code",
      "metadata": {
        "colab": {
          "base_uri": "https://localhost:8080/"
        },
        "id": "7O1TQGFuBxvY",
        "outputId": "341fd7f4-8330-47ac-d92d-f51b77cd784d"
      },
      "source": [
        "views_df.head()"
      ],
      "execution_count": null,
      "outputs": [
        {
          "output_type": "execute_result",
          "data": {
            "text/html": [
              "<div>\n",
              "<style scoped>\n",
              "    .dataframe tbody tr th:only-of-type {\n",
              "        vertical-align: middle;\n",
              "    }\n",
              "\n",
              "    .dataframe tbody tr th {\n",
              "        vertical-align: top;\n",
              "    }\n",
              "\n",
              "    .dataframe thead th {\n",
              "        text-align: right;\n",
              "    }\n",
              "</style>\n",
              "<table border=\"1\" class=\"dataframe\">\n",
              "  <thead>\n",
              "    <tr style=\"text-align: right;\">\n",
              "      <th></th>\n",
              "      <th>user_id</th>\n",
              "      <th>post_id</th>\n",
              "      <th>timestamp</th>\n",
              "    </tr>\n",
              "  </thead>\n",
              "  <tbody>\n",
              "    <tr>\n",
              "      <th>0</th>\n",
              "      <td>5df49b32cc709107827fb3c7</td>\n",
              "      <td>5ec821ddec493f4a2655889e</td>\n",
              "      <td>2020-06-01T10:46:45.131Z</td>\n",
              "    </tr>\n",
              "    <tr>\n",
              "      <th>1</th>\n",
              "      <td>5ed3748576027d35905ccaab</td>\n",
              "      <td>5ed4cbadbd514d602c1531a6</td>\n",
              "      <td>2020-06-01T09:39:20.021Z</td>\n",
              "    </tr>\n",
              "    <tr>\n",
              "      <th>2</th>\n",
              "      <td>5ed0defa76027d35905cc2de</td>\n",
              "      <td>5eac305f10426255a7aa9dd3</td>\n",
              "      <td>2020-06-01T08:12:42.682Z</td>\n",
              "    </tr>\n",
              "    <tr>\n",
              "      <th>3</th>\n",
              "      <td>5ed0defa76027d35905cc2de</td>\n",
              "      <td>5ed1ff0276027d35905cc60d</td>\n",
              "      <td>2020-06-01T08:10:23.880Z</td>\n",
              "    </tr>\n",
              "    <tr>\n",
              "      <th>4</th>\n",
              "      <td>5ed0defa76027d35905cc2de</td>\n",
              "      <td>5ed3820f76027d35905ccac8</td>\n",
              "      <td>2020-06-01T08:08:54.124Z</td>\n",
              "    </tr>\n",
              "  </tbody>\n",
              "</table>\n",
              "</div>"
            ],
            "text/plain": [
              "                    user_id                   post_id                 timestamp\n",
              "0  5df49b32cc709107827fb3c7  5ec821ddec493f4a2655889e  2020-06-01T10:46:45.131Z\n",
              "1  5ed3748576027d35905ccaab  5ed4cbadbd514d602c1531a6  2020-06-01T09:39:20.021Z\n",
              "2  5ed0defa76027d35905cc2de  5eac305f10426255a7aa9dd3  2020-06-01T08:12:42.682Z\n",
              "3  5ed0defa76027d35905cc2de  5ed1ff0276027d35905cc60d  2020-06-01T08:10:23.880Z\n",
              "4  5ed0defa76027d35905cc2de  5ed3820f76027d35905ccac8  2020-06-01T08:08:54.124Z"
            ]
          },
          "metadata": {
            "tags": []
          },
          "execution_count": 31
        }
      ]
    },
    {
      "cell_type": "markdown",
      "metadata": {
        "id": "lSP3WYg0OsS8"
      },
      "source": [
        "# Build Recommend System\n"
      ]
    },
    {
      "cell_type": "markdown",
      "metadata": {
        "id": "EUkM2VtgBxvb"
      },
      "source": [
        "## Collaborative Filtering\n"
      ]
    },
    {
      "cell_type": "markdown",
      "metadata": {
        "id": "3C8SdVv4mj_S"
      },
      "source": [
        "### 1. Memory based collaborative approaches"
      ]
    },
    {
      "cell_type": "markdown",
      "metadata": {
        "id": "HCX1p-zQPiMz"
      },
      "source": [
        "> In this aproach, I create the interaction matrix which the value of line i, column j is `the number of views` of the i-th user to the j-th post\n",
        "\n",
        "> Then a user will be represented by a vector has `n_posts dimension`, value of each element of vector will indicate that the user has view that post or hasn't. \n",
        "\n",
        "> To recommend posts to a user, I find the other user (called B) most similar to user need to be recommended (called A). Then recommended posts for A will be the posts that B has viewed and A hasn't viewed\n",
        "\n",
        "> To calculate similarity, I use `cosine similarity`\n",
        "\n",
        "> In contrast, to recommend posts to a given post, I find k posts most similar to the given post. Each post will be represented by a vector has `n_user dimension`,  \n"
      ]
    },
    {
      "cell_type": "markdown",
      "metadata": {
        "id": "thx5vykejsL6"
      },
      "source": [
        "#### Implement"
      ]
    },
    {
      "cell_type": "markdown",
      "metadata": {
        "id": "Y38hXI_ABxvc"
      },
      "source": [
        "> First step in memory based collaborative approaches is build a user-item iteraction matrix."
      ]
    },
    {
      "cell_type": "code",
      "metadata": {
        "id": "6q1JFIj3OgOx"
      },
      "source": [
        "def kthmax(k, list):\n",
        "  if (k == 1):\n",
        "      return max(list)\n",
        "  else:\n",
        "      m = max(list)\n",
        "      return(kthmax(k-1, [x for x in list if x != m]))\n",
        "\n",
        "class CF(): # Collaborative Filtering\n",
        "  def __init__(self, users_df, items_df, views_df ,dist_func = cosine_similarity ,type_CF=1):\n",
        "    '''\n",
        "    Params:\n",
        "      data: interaction matrix\n",
        "      dist_func: similarity function\n",
        "      type_CF: type of collaborative filtering. 1 is user-user, 0 is item-item\n",
        "    '''\n",
        "    self.users_df = users_df\n",
        "    self.items_df = items_df\n",
        "    self.views_df = views_df\n",
        "    self.create_interaction_matrix()\n",
        "    \n",
        "    self.n_users = self.data.shape[0]\n",
        "    self.n_items = self.data.shape[1]    \n",
        "    \n",
        "    self.type_CF = type_CF\n",
        "    if type_CF ==0:\n",
        "      self.data = np.transpose(self.data)\n",
        "    self.dist_func = dist_func\n",
        "\n",
        "  def create_interaction_matrix(self):\n",
        "    n_users = self.users_df.shape[0]\n",
        "    n_items = self.items_df.shape[0]\n",
        "    \n",
        "    # for fast retrieval create a dict of number of views of each user_post \n",
        "    user_view_dict = {}\n",
        "    for i, view in self.views_df.iterrows():\n",
        "      key = view['user_id'] + ':' + view['post_id']\n",
        "      if key not in user_view_dict.keys():\n",
        "          user_view_dict[key] = 1\n",
        "      else:\n",
        "          user_view_dict[key] += 1\n",
        "\n",
        "    # create a binary matrix\n",
        "    interaction_matrix = np.zeros(shape=(n_users,n_items),dtype=np.int32)\n",
        "\n",
        "    for i, user in self.users_df.iterrows():\n",
        "      for j, item in self.items_df.iterrows():\n",
        "        query_key = user['_id'] + ':' + item['_id']\n",
        "        if query_key in user_view_dict.keys():\n",
        "          interaction_matrix[i][j] = user_view_dict[key]        \n",
        "    self.data = interaction_matrix\n",
        "\n",
        "  def add(self, new_data): # when there is new interaction of user\n",
        "    self.data = np.concatenate((self.data, new_data), axis=0)\n",
        "\n",
        "  def similarity(self): \n",
        "    self.S = self.dist_func(self.data, self.data)\n",
        "  \n",
        "  def fit(self):\n",
        "    self.similarity()\n",
        "\n",
        "  def recommend(self, u): # u is _id of post or user\n",
        "    \"\"\"\n",
        "    Determine items should be recommended for user u (typeCF=1)\n",
        "    or users who might have interest on item u (typeCF=0)\n",
        "    Suppose we are considering items which have not been viewed would\n",
        "    be recommended.\n",
        "    \"\"\"\n",
        "    # get similarity between u and others. \n",
        "    # if user-user: similarity is a matrix: (n_user,n_user): each line is similarity score of n_user to n_user include itself.\n",
        "    # get the index of most similar user then get user vector representation: n_items dimension -> recommend the item which haven't seen by user. \n",
        "    # incase there is no item to recommend then get the index of the second largest user,... \n",
        "\n",
        "    self.fit()\n",
        "    if self.type_CF == 0: # recommend posts to a given post\n",
        "      idx = self.items_df[self.items_df['_id']==u['_id']].index\n",
        "      idx = idx[0]\n",
        "      s_vec = self.S[idx]\n",
        "      # find index of post:\n",
        "      kth = 10\n",
        "      #k_largest_indices = self.data[np.argsort(s_vec,)[-(kth+1):]] # k most largest similarity\n",
        "      idx = np.argpartition(s_vec, -kth)[-kth:]\n",
        "      indices = idx[np.argsort((-s_vec)[idx])]\n",
        "      indices = indices[1:]\n",
        "      \n",
        "      # cond = self.posts_df['_id'].isin(self.user_posts['_id'])  \n",
        "      # remain_posts = self.posts_df[cond==False]\n",
        "      # index_values = np.array(posts_df.index)\n",
        "      # data = bert_input(remain_posts,tokenizer)\n",
        "      # pred = self.model.predict(data)\n",
        "      return self.items_df.loc[indices]\n",
        "\n",
        "    # get the most similarity\n",
        "    idx = self.users_df[self.users_df['_id']==u['_id']].index\n",
        "    idx = idx[0]\n",
        "    s_vec = self.S[idx]\n",
        "    most_user_idx = np.argpartition(s_vec, -2)[-2:]\n",
        "    \n",
        "    indices = most_user_idx[np.argsort((-s_vec)[most_user_idx])]\n",
        "    indices = indices[1:]\n",
        "    posts_of_similar_user = self.data[indices[0]] \n",
        "    posts_of_user = self.data[idx]\n",
        "    re_posts = []\n",
        "    for i,value in enumerate(posts_of_similar_user):\n",
        "      if value > 0 and posts_of_user[i]==0:\n",
        "        re_posts.append(i)\n",
        "    re_posts = np.array(re_posts)\n",
        "    # for i in range(len(s_vec-1)):\n",
        "    #   res = []\n",
        "    #   kth = 1\n",
        "    #   sim_u = self.data[np.argsort(s_vec,)[-(kth+1):][0]]\n",
        "    #   for i,value in enumerate(sim_u):\n",
        "    #     if value >= 1 and self.data[u][i] == 0:\n",
        "    #       res.append(i)\n",
        "    #   if len(res) > 0:\n",
        "    #     break\n",
        "    #   else:\n",
        "    #     kth += 1                         \n",
        "    return self.items_df.loc[re_posts]    "
      ],
      "execution_count": null,
      "outputs": []
    },
    {
      "cell_type": "markdown",
      "metadata": {
        "id": "IgiHk9ORjv7O"
      },
      "source": [
        "#### Run"
      ]
    },
    {
      "cell_type": "markdown",
      "metadata": {
        "id": "j-sywRhhPGyF"
      },
      "source": [
        "> 1. Run collaborative filtering to recommend posts to a given post"
      ]
    },
    {
      "cell_type": "code",
      "metadata": {
        "id": "mNI7B5dR6cHJ",
        "colab": {
          "base_uri": "https://localhost:8080/",
          "height": 479
        },
        "outputId": "9178a0f7-437b-4a54-ca57-91cc805740f9"
      },
      "source": [
        "cf = CF(users_df,posts_df,views_df,type_CF=0)\n",
        "print('----Query post----')\n",
        "print(posts_df.loc[2])\n",
        "res = cf.recommend(dict(posts_df.loc[2]))\n",
        "print('\\n----Top 10 results----')\n",
        "res"
      ],
      "execution_count": null,
      "outputs": [
        {
          "output_type": "stream",
          "text": [
            "----Query post----\n",
            "_id                5d7d23315720533e15c3b1ee\n",
            "title         What is an Operating System ?\n",
            "category                  Operating Systems\n",
            " post_type                             blog\n",
            "Name: 2, dtype: object\n",
            "\n",
            "----Top 10 results----\n"
          ],
          "name": "stdout"
        },
        {
          "output_type": "execute_result",
          "data": {
            "text/html": [
              "<div>\n",
              "<style scoped>\n",
              "    .dataframe tbody tr th:only-of-type {\n",
              "        vertical-align: middle;\n",
              "    }\n",
              "\n",
              "    .dataframe tbody tr th {\n",
              "        vertical-align: top;\n",
              "    }\n",
              "\n",
              "    .dataframe thead th {\n",
              "        text-align: right;\n",
              "    }\n",
              "</style>\n",
              "<table border=\"1\" class=\"dataframe\">\n",
              "  <thead>\n",
              "    <tr style=\"text-align: right;\">\n",
              "      <th></th>\n",
              "      <th>_id</th>\n",
              "      <th>title</th>\n",
              "      <th>category</th>\n",
              "      <th>post_type</th>\n",
              "    </tr>\n",
              "  </thead>\n",
              "  <tbody>\n",
              "    <tr>\n",
              "      <th>64</th>\n",
              "      <td>5e3e9cc0eab55d319938a79b</td>\n",
              "      <td>C#(.NET)</td>\n",
              "      <td>Computer Technology|Programming languages</td>\n",
              "      <td>blog</td>\n",
              "    </tr>\n",
              "    <tr>\n",
              "      <th>45</th>\n",
              "      <td>5e36746a8d344822fed4d147</td>\n",
              "      <td>ROMAN REIGNS</td>\n",
              "      <td>Drawings</td>\n",
              "      <td>artwork</td>\n",
              "    </tr>\n",
              "    <tr>\n",
              "      <th>79</th>\n",
              "      <td>5e431bf9eab55d319938a86a</td>\n",
              "      <td>Computer Graphics</td>\n",
              "      <td>Graphics|Computer Creation</td>\n",
              "      <td>blog</td>\n",
              "    </tr>\n",
              "    <tr>\n",
              "      <th>105</th>\n",
              "      <td>5e502673d15de17a8cf1b946</td>\n",
              "      <td>Data Transmission Modes</td>\n",
              "      <td>Computer Technology|Computer Application|Opera...</td>\n",
              "      <td>blog</td>\n",
              "    </tr>\n",
              "    <tr>\n",
              "      <th>104</th>\n",
              "      <td>5e5023f1d15de17a8cf1b939</td>\n",
              "      <td>Applications of mobile computing</td>\n",
              "      <td>Computer Technology|Computer Application</td>\n",
              "      <td>blog</td>\n",
              "    </tr>\n",
              "    <tr>\n",
              "      <th>103</th>\n",
              "      <td>5e50207cd15de17a8cf1b92c</td>\n",
              "      <td>Mobile Computing Technology</td>\n",
              "      <td>Computer Technology|Mobile Applications</td>\n",
              "      <td>blog</td>\n",
              "    </tr>\n",
              "    <tr>\n",
              "      <th>102</th>\n",
              "      <td>5e501d55d15de17a8cf1b91f</td>\n",
              "      <td>DATA AND MESSAGE SECURITY</td>\n",
              "      <td>Computer Technology|Computer Application</td>\n",
              "      <td>blog</td>\n",
              "    </tr>\n",
              "    <tr>\n",
              "      <th>77</th>\n",
              "      <td>5e41b98eeab55d319938a82d</td>\n",
              "      <td>PHP Variables</td>\n",
              "      <td>Computer Technology|Design and Analysis of Alg...</td>\n",
              "      <td>blog</td>\n",
              "    </tr>\n",
              "    <tr>\n",
              "      <th>50</th>\n",
              "      <td>5e372ee2eab55d319938a6ed</td>\n",
              "      <td>SEO (Search Engine Optimization)</td>\n",
              "      <td>Computer Technology|Computation</td>\n",
              "      <td>blog</td>\n",
              "    </tr>\n",
              "  </tbody>\n",
              "</table>\n",
              "</div>"
            ],
            "text/plain": [
              "                          _id  ...  post_type\n",
              "64   5e3e9cc0eab55d319938a79b  ...       blog\n",
              "45   5e36746a8d344822fed4d147  ...    artwork\n",
              "79   5e431bf9eab55d319938a86a  ...       blog\n",
              "105  5e502673d15de17a8cf1b946  ...       blog\n",
              "104  5e5023f1d15de17a8cf1b939  ...       blog\n",
              "103  5e50207cd15de17a8cf1b92c  ...       blog\n",
              "102  5e501d55d15de17a8cf1b91f  ...       blog\n",
              "77   5e41b98eeab55d319938a82d  ...       blog\n",
              "50   5e372ee2eab55d319938a6ed  ...       blog\n",
              "\n",
              "[9 rows x 4 columns]"
            ]
          },
          "metadata": {
            "tags": []
          },
          "execution_count": 7
        }
      ]
    },
    {
      "cell_type": "markdown",
      "metadata": {
        "id": "_vrCTMTYhZqO"
      },
      "source": [
        "> 2. Run collaborative filtering to recommend posts to a user"
      ]
    },
    {
      "cell_type": "code",
      "metadata": {
        "colab": {
          "base_uri": "https://localhost:8080/",
          "height": 571
        },
        "id": "2zhn2TzqcEwV",
        "outputId": "e5003dcd-356c-46b1-ba11-4714a2c9cbce"
      },
      "source": [
        "cf = CF(users_df,posts_df,views_df,type_CF=1)\n",
        "print('----Query post----')\n",
        "print(users_df.loc[1])\n",
        "res = cf.recommend(dict(users_df.loc[1]))\n",
        "print('\\n----Results----')\n",
        "res"
      ],
      "execution_count": null,
      "outputs": [
        {
          "output_type": "stream",
          "text": [
            "----Query post----\n",
            "_id          5d610ae1653a331687083239\n",
            "name                    Gaurav Sharma\n",
            "gender                           male\n",
            "academics                    graduate\n",
            "Name: 1, dtype: object\n",
            "\n",
            "----Results----\n"
          ],
          "name": "stdout"
        },
        {
          "output_type": "execute_result",
          "data": {
            "text/html": [
              "<div>\n",
              "<style scoped>\n",
              "    .dataframe tbody tr th:only-of-type {\n",
              "        vertical-align: middle;\n",
              "    }\n",
              "\n",
              "    .dataframe tbody tr th {\n",
              "        vertical-align: top;\n",
              "    }\n",
              "\n",
              "    .dataframe thead th {\n",
              "        text-align: right;\n",
              "    }\n",
              "</style>\n",
              "<table border=\"1\" class=\"dataframe\">\n",
              "  <thead>\n",
              "    <tr style=\"text-align: right;\">\n",
              "      <th></th>\n",
              "      <th>_id</th>\n",
              "      <th>title</th>\n",
              "      <th>category</th>\n",
              "      <th>post_type</th>\n",
              "    </tr>\n",
              "  </thead>\n",
              "  <tbody>\n",
              "    <tr>\n",
              "      <th>0</th>\n",
              "      <td>5d62abaa65218653a132c956</td>\n",
              "      <td>hello there</td>\n",
              "      <td>Plant Biotechnology</td>\n",
              "      <td>blog</td>\n",
              "    </tr>\n",
              "    <tr>\n",
              "      <th>1</th>\n",
              "      <td>5d6d39567fa40e1417a4931c</td>\n",
              "      <td>Ml and AI</td>\n",
              "      <td>Artificial Intelligence|Machine Learning|Infor...</td>\n",
              "      <td>blog</td>\n",
              "    </tr>\n",
              "    <tr>\n",
              "      <th>20</th>\n",
              "      <td>5dbc631f99cbb90e4339c7fd</td>\n",
              "      <td>Calligraphy</td>\n",
              "      <td>Drawings|Calligraphy</td>\n",
              "      <td>artwork</td>\n",
              "    </tr>\n",
              "    <tr>\n",
              "      <th>21</th>\n",
              "      <td>5dc065ca24b883670268772f</td>\n",
              "      <td>Colours of pushkar.</td>\n",
              "      <td>Photography</td>\n",
              "      <td>artwork</td>\n",
              "    </tr>\n",
              "    <tr>\n",
              "      <th>24</th>\n",
              "      <td>5ddeb6e80eb5e25a8a07f065</td>\n",
              "      <td>Library Managment System: Software Requirement...</td>\n",
              "      <td>NaN</td>\n",
              "      <td>project</td>\n",
              "    </tr>\n",
              "    <tr>\n",
              "      <th>...</th>\n",
              "      <td>...</td>\n",
              "      <td>...</td>\n",
              "      <td>...</td>\n",
              "      <td>...</td>\n",
              "    </tr>\n",
              "    <tr>\n",
              "      <th>459</th>\n",
              "      <td>5ecfffb976027d35905cc0e9</td>\n",
              "      <td>Xbox Series X To Launch With 'Thousands' of Games</td>\n",
              "      <td>Mixed Media</td>\n",
              "      <td>artwork</td>\n",
              "    </tr>\n",
              "    <tr>\n",
              "      <th>461</th>\n",
              "      <td>5ed09ad076027d35905cc15f</td>\n",
              "      <td>Understanding Cloud Computing(AWS)</td>\n",
              "      <td>Computer Technology|Cloud Computing</td>\n",
              "      <td>blog</td>\n",
              "    </tr>\n",
              "    <tr>\n",
              "      <th>462</th>\n",
              "      <td>5ed0e20776027d35905cc2fe</td>\n",
              "      <td>Here are 7 of my favourite books that I've rea...</td>\n",
              "      <td>Literature|Stories|Fictions|Movements in Liter...</td>\n",
              "      <td>blog</td>\n",
              "    </tr>\n",
              "    <tr>\n",
              "      <th>470</th>\n",
              "      <td>5ed1ff0276027d35905cc60d</td>\n",
              "      <td>AWS services and how to launch OS on AWS Cloud</td>\n",
              "      <td>Computer Technology|Cloud Computing</td>\n",
              "      <td>blog</td>\n",
              "    </tr>\n",
              "    <tr>\n",
              "      <th>489</th>\n",
              "      <td>5ed3820f76027d35905ccac8</td>\n",
              "      <td>Configure Docker with Django; PostgreSQL; Pg-a...</td>\n",
              "      <td>Computer Technology|Computer Application|Infor...</td>\n",
              "      <td>blog</td>\n",
              "    </tr>\n",
              "  </tbody>\n",
              "</table>\n",
              "<p>148 rows × 4 columns</p>\n",
              "</div>"
            ],
            "text/plain": [
              "                          _id  ...  post_type\n",
              "0    5d62abaa65218653a132c956  ...       blog\n",
              "1    5d6d39567fa40e1417a4931c  ...       blog\n",
              "20   5dbc631f99cbb90e4339c7fd  ...    artwork\n",
              "21   5dc065ca24b883670268772f  ...    artwork\n",
              "24   5ddeb6e80eb5e25a8a07f065  ...    project\n",
              "..                        ...  ...        ...\n",
              "459  5ecfffb976027d35905cc0e9  ...    artwork\n",
              "461  5ed09ad076027d35905cc15f  ...       blog\n",
              "462  5ed0e20776027d35905cc2fe  ...       blog\n",
              "470  5ed1ff0276027d35905cc60d  ...       blog\n",
              "489  5ed3820f76027d35905ccac8  ...       blog\n",
              "\n",
              "[148 rows x 4 columns]"
            ]
          },
          "metadata": {
            "tags": []
          },
          "execution_count": 38
        }
      ]
    },
    {
      "cell_type": "code",
      "metadata": {
        "colab": {
          "base_uri": "https://localhost:8080/",
          "height": 424
        },
        "id": "yQgiEI70O7Qj",
        "outputId": "c790e816-a2e5-497e-abd6-e37b7949411c"
      },
      "source": [
        "posts_id = views_df[views_df['user_id'] == users_df['_id'][1]][['post_id']]\n",
        "viewed_posts = posts_df[posts_df._id.apply(lambda x: x in posts_id.values)]\n",
        "viewed_posts"
      ],
      "execution_count": null,
      "outputs": [
        {
          "output_type": "execute_result",
          "data": {
            "text/html": [
              "<div>\n",
              "<style scoped>\n",
              "    .dataframe tbody tr th:only-of-type {\n",
              "        vertical-align: middle;\n",
              "    }\n",
              "\n",
              "    .dataframe tbody tr th {\n",
              "        vertical-align: top;\n",
              "    }\n",
              "\n",
              "    .dataframe thead th {\n",
              "        text-align: right;\n",
              "    }\n",
              "</style>\n",
              "<table border=\"1\" class=\"dataframe\">\n",
              "  <thead>\n",
              "    <tr style=\"text-align: right;\">\n",
              "      <th></th>\n",
              "      <th>_id</th>\n",
              "      <th>title</th>\n",
              "      <th>category</th>\n",
              "      <th>post_type</th>\n",
              "    </tr>\n",
              "  </thead>\n",
              "  <tbody>\n",
              "    <tr>\n",
              "      <th>4</th>\n",
              "      <td>5d80dfbc6c53455f896e600e</td>\n",
              "      <td>How Competition law evolved?</td>\n",
              "      <td>Competition Laws</td>\n",
              "      <td>blog</td>\n",
              "    </tr>\n",
              "    <tr>\n",
              "      <th>18</th>\n",
              "      <td>5db2b91a99cbb90e4339c749</td>\n",
              "      <td>CLASSIFYING FORMS OF CARTELS</td>\n",
              "      <td>Competition Laws</td>\n",
              "      <td>blog</td>\n",
              "    </tr>\n",
              "    <tr>\n",
              "      <th>37</th>\n",
              "      <td>5e2d36ebc85ab714a7da66d1</td>\n",
              "      <td>CONTOURING CLAY</td>\n",
              "      <td>Sculptures|Artistic design</td>\n",
              "      <td>artwork</td>\n",
              "    </tr>\n",
              "    <tr>\n",
              "      <th>38</th>\n",
              "      <td>5e2d3fbfc85ab714a7da66d5</td>\n",
              "      <td>Multipurpose Jewel</td>\n",
              "      <td>Fashion Design|Ceramics|Artistic design</td>\n",
              "      <td>artwork</td>\n",
              "    </tr>\n",
              "    <tr>\n",
              "      <th>39</th>\n",
              "      <td>5e2d447dc85ab714a7da66d7</td>\n",
              "      <td>Traditional and Modern Sports</td>\n",
              "      <td>Craft|Artistic design</td>\n",
              "      <td>artwork</td>\n",
              "    </tr>\n",
              "    <tr>\n",
              "      <th>...</th>\n",
              "      <td>...</td>\n",
              "      <td>...</td>\n",
              "      <td>...</td>\n",
              "      <td>...</td>\n",
              "    </tr>\n",
              "    <tr>\n",
              "      <th>449</th>\n",
              "      <td>5ecce8a5eaff6b0c3a58a5e9</td>\n",
              "      <td>The Waves Have Stood Still</td>\n",
              "      <td>Photography</td>\n",
              "      <td>artwork</td>\n",
              "    </tr>\n",
              "    <tr>\n",
              "      <th>450</th>\n",
              "      <td>5ecd5d417023451e662235c5</td>\n",
              "      <td>Machine Learning”&amp;“Operations\" (MlOps)</td>\n",
              "      <td>Computer Technology|Machine Learning</td>\n",
              "      <td>blog</td>\n",
              "    </tr>\n",
              "    <tr>\n",
              "      <th>451</th>\n",
              "      <td>5ecd6ba47023451e66223604</td>\n",
              "      <td>Be yourself !!</td>\n",
              "      <td>Photography</td>\n",
              "      <td>artwork</td>\n",
              "    </tr>\n",
              "    <tr>\n",
              "      <th>463</th>\n",
              "      <td>5ed0e31a76027d35905cc302</td>\n",
              "      <td>Designing Cmos circuit from Boolean expression...</td>\n",
              "      <td>NaN</td>\n",
              "      <td>project</td>\n",
              "    </tr>\n",
              "    <tr>\n",
              "      <th>466</th>\n",
              "      <td>5ed13d2876027d35905cc4c2</td>\n",
              "      <td>Launching an EC2 instance.</td>\n",
              "      <td>Technology</td>\n",
              "      <td>skill</td>\n",
              "    </tr>\n",
              "  </tbody>\n",
              "</table>\n",
              "<p>132 rows × 4 columns</p>\n",
              "</div>"
            ],
            "text/plain": [
              "                          _id  ...  post_type\n",
              "4    5d80dfbc6c53455f896e600e  ...       blog\n",
              "18   5db2b91a99cbb90e4339c749  ...       blog\n",
              "37   5e2d36ebc85ab714a7da66d1  ...    artwork\n",
              "38   5e2d3fbfc85ab714a7da66d5  ...    artwork\n",
              "39   5e2d447dc85ab714a7da66d7  ...    artwork\n",
              "..                        ...  ...        ...\n",
              "449  5ecce8a5eaff6b0c3a58a5e9  ...    artwork\n",
              "450  5ecd5d417023451e662235c5  ...       blog\n",
              "451  5ecd6ba47023451e66223604  ...    artwork\n",
              "463  5ed0e31a76027d35905cc302  ...    project\n",
              "466  5ed13d2876027d35905cc4c2  ...      skill\n",
              "\n",
              "[132 rows x 4 columns]"
            ]
          },
          "metadata": {
            "tags": []
          },
          "execution_count": 134
        }
      ]
    },
    {
      "cell_type": "markdown",
      "metadata": {
        "id": "oW15XgaePe6O"
      },
      "source": [
        "> Compare what `Gaurav Sharma` viewed in the past and what we recommend him to read"
      ]
    },
    {
      "cell_type": "markdown",
      "metadata": {
        "id": "6fz1-FzoY6UY"
      },
      "source": [
        "> Statistic by `post_type`:"
      ]
    },
    {
      "cell_type": "code",
      "metadata": {
        "colab": {
          "base_uri": "https://localhost:8080/"
        },
        "id": "45PhjdnkQk22",
        "outputId": "6450f45d-57e0-48b8-c461-8a399804f7cc"
      },
      "source": [
        "print('--Posts he read in the past--')\n",
        "print(viewed_posts[' post_type'].value_counts())\n",
        "print('\\n--Posts we recommend--')\n",
        "print(recommended_posts[' post_type'].value_counts())"
      ],
      "execution_count": null,
      "outputs": [
        {
          "output_type": "stream",
          "text": [
            "--Posts he read in the past--\n",
            "artwork    77\n",
            "blog       37\n",
            "skill      13\n",
            "project     5\n",
            "Name:  post_type, dtype: int64\n",
            "\n",
            "--Posts we recommend--\n",
            "artwork    82\n",
            "blog       53\n",
            "skill       8\n",
            "project     5\n",
            "Name:  post_type, dtype: int64\n"
          ],
          "name": "stdout"
        }
      ]
    },
    {
      "cell_type": "markdown",
      "metadata": {
        "id": "LGzJKWeHaN80"
      },
      "source": [
        "> Quite reasonable: `artwork` and `blog` posts are most recommended"
      ]
    },
    {
      "cell_type": "markdown",
      "metadata": {
        "id": "nvGvgkjIa_6D"
      },
      "source": [
        "> Statistic by category:"
      ]
    },
    {
      "cell_type": "code",
      "metadata": {
        "colab": {
          "base_uri": "https://localhost:8080/"
        },
        "id": "Q0vSk3yjdnLd",
        "outputId": "fc8ee36c-7168-4965-c36a-566b1910b7fd"
      },
      "source": [
        "print('--Posts he read in the past--')\n",
        "print(viewed_posts['category'].value_counts())\n",
        "print('\\n--Posts we recommend--')\n",
        "print(recommended_posts['category'].value_counts())"
      ],
      "execution_count": null,
      "outputs": [
        {
          "output_type": "stream",
          "text": [
            "--Posts he read in the past--\n",
            "Photography                                           25\n",
            "Drawings                                              14\n",
            "Visual Arts                                            9\n",
            "Painting                                               6\n",
            "Mass Media|Indian Government                           3\n",
            "                                                      ..\n",
            "Social Work|NGO                                        1\n",
            "Psycholgy|Child Development                            1\n",
            "Zoology|Environmental Biology                          1\n",
            "Mixed Media                                            1\n",
            "Legal Studies|Company Law|Legal System|Banking Law     1\n",
            "Name: category, Length: 70, dtype: int64\n",
            "\n",
            "--Posts we recommend--\n",
            "Photography                                                                                                      32\n",
            "Drawings                                                                                                         16\n",
            "Painting                                                                                                         10\n",
            "Computer Technology|Machine Learning                                                                              5\n",
            "Drawings|Fashion Design|Illustration|Watercolours                                                                 2\n",
            "                                                                                                                 ..\n",
            "Business|Business Organisation                                                                                    1\n",
            "Drawings|Calligraphy                                                                                              1\n",
            "Marketing|Principles Of Marketing|Marketing Research Methadology|Marketing Management|International Marketing     1\n",
            "Philosophy|Applied Ethics                                                                                         1\n",
            "Literature|Stories|Fictions|Movements in Literature                                                               1\n",
            "Name: category, Length: 78, dtype: int64\n"
          ],
          "name": "stdout"
        }
      ]
    },
    {
      "cell_type": "markdown",
      "metadata": {
        "id": "wL0r7un2gqVh"
      },
      "source": [
        "### Markdown\n",
        "\n",
        "> There is no filter in the results (priority), you can see so many candidates (posts) after filtering. \n",
        "\n",
        "> This collaborative filter approach has a weekness called `cold start`. When there is a new user there is no pass interaction of this user to calculate similarity. \n",
        "\n",
        "> Moreover, this approach does not take advantage of information of the posts or the user to give recommendation. A user has tendency of view posts related to his major/interested field which can be shown through the frequency of post categories he has read.  \n"
      ]
    },
    {
      "cell_type": "markdown",
      "metadata": {
        "id": "QZbFQtYHmn2_"
      },
      "source": [
        "## Content-based recommender"
      ]
    },
    {
      "cell_type": "code",
      "metadata": {
        "id": "8GL3TLhjmsLU"
      },
      "source": [
        "# Given a user recommend posts\n",
        "# Given a post recomend posts"
      ],
      "execution_count": null,
      "outputs": []
    },
    {
      "cell_type": "markdown",
      "metadata": {
        "id": "9N95q7Gb8ZxV"
      },
      "source": [
        "> Create a user embedding model based on user information and posts have read by user in the past. "
      ]
    },
    {
      "cell_type": "code",
      "metadata": {
        "id": "cag98wKNVTUf"
      },
      "source": [
        "from keras.utils import to_categorical\n",
        "module_url = 'https://tfhub.dev/tensorflow/bert_en_uncased_L-12_H-768_A-12/2'\n",
        "bert_layer = hub.KerasLayer(module_url, trainable=True,name='bert_layer')\n",
        "vocab_file = bert_layer.resolved_object.vocab_file.asset_path.numpy()\n",
        "do_lower_case = bert_layer.resolved_object.do_lower_case.numpy()\n",
        "tokenizer = tokenization.FullTokenizer(vocab_file, do_lower_case)"
      ],
      "execution_count": null,
      "outputs": []
    },
    {
      "cell_type": "code",
      "metadata": {
        "id": "PNG4kCLWAKJV"
      },
      "source": [
        "def bert_input(user_posts, tokenizer, max_len=55):\n",
        "    all_tokens = []\n",
        "    all_masks = []\n",
        "    all_segments = []\n",
        "\n",
        "    for i,row in user_posts.iterrows():\n",
        "      title = row['title']\n",
        "      if type(title) != str:\n",
        "        title = ''\n",
        "      title = tokenizer.tokenize(title)\n",
        "      category = row['category']\n",
        "      if type(category) != str:\n",
        "        category = ''\n",
        "      category = tokenizer.tokenize(category)\n",
        "      post_type = row[' post_type']\n",
        "      if type(post_type) != str:\n",
        "         post_type = ''\n",
        "      post_type = tokenizer.tokenize(post_type)\n",
        "\n",
        "      input_sequence = [\"[CLS]\"] + title +  category + post_type + [\"[SEP]\"]\n",
        "      pad_len = max_len - len(input_sequence)\n",
        "      \n",
        "      tokens = tokenizer.convert_tokens_to_ids(input_sequence) + [0]*pad_len\n",
        "      pad_masks = [1]*len(input_sequence)+[0]*pad_len\n",
        "      segment_ids = [0]*max_len  # [1]*(len(category)+len(post_type) +1) \n",
        "      \n",
        "      all_tokens.append(tokens)\n",
        "      all_masks.append(pad_masks)\n",
        "      all_segments.append(segment_ids)\n",
        "    return np.array(all_tokens), np.array(all_masks), np.array(all_segments)\n",
        "\n",
        "class model_encoder():\n",
        "  def get_history_posts(self):\n",
        "    posts_id = self.views_df[self.views_df['user_id']==self.user_id][['post_id']]\n",
        "    posts = self.posts_df._id.apply(lambda x: x in posts_id.values)\n",
        "    self.user_posts =  posts_df[posts]\n",
        "  def __init__(self, views_df, posts_df, user_id, max_len=55):\n",
        "    self.user_id = user_id\n",
        "    self.posts_df = posts_df\n",
        "    self.views_df = views_df\n",
        "    self.get_history_posts()\n",
        "\n",
        "    module_url = 'https://tfhub.dev/tensorflow/bert_en_uncased_L-12_H-768_A-12/2'\n",
        "    bert_layer = hub.KerasLayer(module_url, trainable=True,name='bert_layer')\n",
        "\n",
        "    input_word_ids = tf.keras.Input(shape=(max_len,),dtype=tf.int32, name=\"input_word_ids\")\n",
        "    input_mask = tf.keras.Input(shape=(max_len,), dtype=tf.int32, name=\"input_mask\")\n",
        "    segment_ids = tf.keras.Input(shape=(max_len,),dtype=tf.int32, name=\"segment_ids\")\n",
        "\n",
        "    pooled_output, sequence_output = bert_layer([input_word_ids, input_mask,segment_ids])\n",
        "    clf_output = sequence_output[:,0,:]\n",
        "    cls_layer = Dense(6,activation='softmax')(clf_output)\n",
        "\n",
        "    self.model = tf.keras.models.Model(inputs=[input_word_ids,input_mask,segment_ids], outputs=cls_layer)\n",
        "\n",
        "  def get_label(self):\n",
        "    post_categories = {}\n",
        "    \n",
        "    for value in self.user_posts.category.values:\n",
        "      if type(value) is str:\n",
        "        arr = value.split('|')\n",
        "        for i in arr:\n",
        "          if i not in post_categories.keys():\n",
        "            post_categories[i] = 1\n",
        "          else:\n",
        "            post_categories[i] += 1\n",
        "\n",
        "    most_intersted_categoris = [x[0] for x in post_categories.items() if x[1] == np.quantile(list(post_categories.values()), 1)]\n",
        "    high_intersted_categoris = [x[0] for x in post_categories.items() if x[1] < np.quantile(list(post_categories.values()), 1) and x[1] >= np.quantile(list(post_categories.values()), 0.97)]\n",
        "    medium_interested_categories = [x[0] for x in post_categories.items() if x[1] < np.quantile(list(post_categories.values()), 0.97) and x[1] >= np.quantile(list(post_categories.values()),0.75)]\n",
        "    low_interested_categories = [x[0] for x in post_categories.items() if x[1] < np.quantile(list(post_categories.values()), 0.75) and x[1] > np.quantile(list(post_categories.values()),0.5)]\n",
        "    lowest_interested_categories =  [x[0] for x in post_categories.items() if x[1] <= np.quantile(list(post_categories.values()), 0.5)]\n",
        "\n",
        "    def label_post(x):\n",
        "      if type(x) is str:\n",
        "        arr = x.split('|')\n",
        "        for value in arr:\n",
        "          if value in most_intersted_categoris:\n",
        "            return 0\n",
        "        for value in arr:\n",
        "          if value in high_intersted_categoris:\n",
        "            return 1\n",
        "        for value in arr:\n",
        "          if value in medium_interested_categories:\n",
        "            return 2\n",
        "        for value in arr:\n",
        "          if value in low_interested_categories:\n",
        "            return 3\n",
        "        for value in arr:\n",
        "          if value in lowest_interested_categories:\n",
        "            return 4\n",
        "      return -1\n",
        "    self.user_posts['label'] = self.user_posts.category.apply(lambda x: label_post(x))\n",
        "    train_onehot_lbl = to_categorical(self.user_posts['label'].values,num_classes=6)\n",
        "    return train_onehot_lbl\n",
        "\n",
        "  def fit(self):\n",
        "    self.get_history_posts()\n",
        "    data = bert_input(self.user_posts, tokenizer)\n",
        "    label = self.get_label()\n",
        "    self.model .compile(optimizer = keras.optimizers.Adam(learning_rate=0.00001) , loss='categorical_crossentropy', metrics=['accuracy'])\n",
        "    self.model.fit(x = data, y = label, batch_size=2, epochs=10, verbose=1)\n",
        "    return self.model\n",
        "\n",
        "  def recommend(self):\n",
        "    self.user_posts.shape\n",
        "    cond = self.posts_df['_id'].isin(self.user_posts['_id'])  \n",
        "    remain_posts = self.posts_df[cond==False]\n",
        "    index_values = np.array(posts_df.index)\n",
        "    data = bert_input(remain_posts,tokenizer)\n",
        "    pred = self.model.predict(data)\n",
        "\n",
        "    res = []\n",
        "    for i,row in enumerate(pred):\n",
        "      max_prob = np.argmax(row)\n",
        "      if max_prob == 0:\n",
        "        res.append((i,row[max_prob]))\n",
        "    # res: (i,j) index, probability \n",
        "    res = np.array(res)    \n",
        "    topk = np.argsort(res[:,1],)[-10:] # topk largest prob\n",
        "    topk = topk[::-1].astype('int32')\n",
        "    return posts_df.loc[index_values[res[topk,0].astype('int32')]]\n",
        "\n",
        "\n",
        "  def get_embedding(self,input):\n",
        "    return self.model.predict([input])\n",
        "\n"
      ],
      "execution_count": null,
      "outputs": []
    },
    {
      "cell_type": "markdown",
      "metadata": {
        "id": "4cejH_n3MVQy"
      },
      "source": [
        "> To tunning my embedding model, I need to lable the viewed post base on frequency category of viewed post read by user"
      ]
    },
    {
      "cell_type": "code",
      "metadata": {
        "colab": {
          "base_uri": "https://localhost:8080/"
        },
        "id": "rcyumnu4UyQf",
        "outputId": "ed24f417-124a-4d66-bb6d-96315b15b8a2"
      },
      "source": [
        "model = model_encoder(views_df=views_df, posts_df=posts_df, user_id = users_df['_id'][1])\n",
        "model.fit()\n",
        "res = model.recommend()"
      ],
      "execution_count": null,
      "outputs": [
        {
          "output_type": "stream",
          "text": [
            "/usr/local/lib/python3.7/dist-packages/ipykernel_launcher.py:94: SettingWithCopyWarning: \n",
            "A value is trying to be set on a copy of a slice from a DataFrame.\n",
            "Try using .loc[row_indexer,col_indexer] = value instead\n",
            "\n",
            "See the caveats in the documentation: https://pandas.pydata.org/pandas-docs/stable/user_guide/indexing.html#returning-a-view-versus-a-copy\n"
          ],
          "name": "stderr"
        },
        {
          "output_type": "stream",
          "text": [
            "Epoch 1/10\n",
            "66/66 [==============================] - 23s 123ms/step - loss: 1.4678 - accuracy: 0.3828\n",
            "Epoch 2/10\n",
            "66/66 [==============================] - 8s 121ms/step - loss: 0.6492 - accuracy: 0.7741\n",
            "Epoch 3/10\n",
            "66/66 [==============================] - 8s 121ms/step - loss: 0.3956 - accuracy: 0.8334\n",
            "Epoch 4/10\n",
            "66/66 [==============================] - 8s 122ms/step - loss: 0.2247 - accuracy: 0.9535\n",
            "Epoch 5/10\n",
            "66/66 [==============================] - 8s 121ms/step - loss: 0.0748 - accuracy: 0.9985\n",
            "Epoch 6/10\n",
            "66/66 [==============================] - 8s 122ms/step - loss: 0.0561 - accuracy: 0.9885\n",
            "Epoch 7/10\n",
            "66/66 [==============================] - 8s 122ms/step - loss: 0.1086 - accuracy: 0.9583\n",
            "Epoch 8/10\n",
            "66/66 [==============================] - 8s 121ms/step - loss: 0.0163 - accuracy: 1.0000\n",
            "Epoch 9/10\n",
            "66/66 [==============================] - 8s 121ms/step - loss: 0.0306 - accuracy: 1.0000\n",
            "Epoch 10/10\n",
            "66/66 [==============================] - 8s 122ms/step - loss: 0.0084 - accuracy: 1.0000\n"
          ],
          "name": "stdout"
        }
      ]
    },
    {
      "cell_type": "code",
      "metadata": {
        "colab": {
          "base_uri": "https://localhost:8080/",
          "height": 592
        },
        "id": "Xh1-UHe0tgGY",
        "outputId": "190bddbc-72f9-45f3-8153-0845869ee47a"
      },
      "source": [
        "res"
      ],
      "execution_count": null,
      "outputs": [
        {
          "output_type": "execute_result",
          "data": {
            "text/html": [
              "<div>\n",
              "<style scoped>\n",
              "    .dataframe tbody tr th:only-of-type {\n",
              "        vertical-align: middle;\n",
              "    }\n",
              "\n",
              "    .dataframe tbody tr th {\n",
              "        vertical-align: top;\n",
              "    }\n",
              "\n",
              "    .dataframe thead th {\n",
              "        text-align: right;\n",
              "    }\n",
              "</style>\n",
              "<table border=\"1\" class=\"dataframe\">\n",
              "  <thead>\n",
              "    <tr style=\"text-align: right;\">\n",
              "      <th></th>\n",
              "      <th>_id</th>\n",
              "      <th>title</th>\n",
              "      <th>category</th>\n",
              "      <th>post_type</th>\n",
              "    </tr>\n",
              "  </thead>\n",
              "  <tbody>\n",
              "    <tr>\n",
              "      <th>299</th>\n",
              "      <td>5e979490a3258347b42f2b13</td>\n",
              "      <td>Vintage (JAISALMER IS A REAL BEAUTY AND SO IS ...</td>\n",
              "      <td>Photography|Conceptual</td>\n",
              "      <td>artwork</td>\n",
              "    </tr>\n",
              "    <tr>\n",
              "      <th>242</th>\n",
              "      <td>5e940dd0a3258347b42f27f1</td>\n",
              "      <td>freeze</td>\n",
              "      <td>Photography</td>\n",
              "      <td>artwork</td>\n",
              "    </tr>\n",
              "    <tr>\n",
              "      <th>196</th>\n",
              "      <td>5e81c101a3258347b42f22a3</td>\n",
              "      <td>Corona's Checklist</td>\n",
              "      <td>Visual Arts</td>\n",
              "      <td>artwork</td>\n",
              "    </tr>\n",
              "    <tr>\n",
              "      <th>201</th>\n",
              "      <td>5e81c29ea3258347b42f2303</td>\n",
              "      <td>Social Distancing</td>\n",
              "      <td>Visual Arts</td>\n",
              "      <td>artwork</td>\n",
              "    </tr>\n",
              "    <tr>\n",
              "      <th>204</th>\n",
              "      <td>5e82390ea3258347b42f2369</td>\n",
              "      <td>Oliveres mediterrànies</td>\n",
              "      <td>Geography|Physical Geography</td>\n",
              "      <td>blog</td>\n",
              "    </tr>\n",
              "    <tr>\n",
              "      <th>295</th>\n",
              "      <td>5e9754efa3258347b42f2ae8</td>\n",
              "      <td>No one's worth hate🧡</td>\n",
              "      <td>Drawings</td>\n",
              "      <td>artwork</td>\n",
              "    </tr>\n",
              "    <tr>\n",
              "      <th>258</th>\n",
              "      <td>5e948ce6a3258347b42f28aa</td>\n",
              "      <td>Hermit</td>\n",
              "      <td>Photography</td>\n",
              "      <td>artwork</td>\n",
              "    </tr>\n",
              "    <tr>\n",
              "      <th>291</th>\n",
              "      <td>5e966ad3a3258347b42f2aaf</td>\n",
              "      <td>8 Best Machine Learning Courses for 2020</td>\n",
              "      <td>Computer Technology|Cloud Computing|Artificial...</td>\n",
              "      <td>blog</td>\n",
              "    </tr>\n",
              "    <tr>\n",
              "      <th>205</th>\n",
              "      <td>5e8307ada3258347b42f23ec</td>\n",
              "      <td>Aesthetic</td>\n",
              "      <td>Photography</td>\n",
              "      <td>artwork</td>\n",
              "    </tr>\n",
              "    <tr>\n",
              "      <th>260</th>\n",
              "      <td>5e948db6a3258347b42f28b2</td>\n",
              "      <td>peace</td>\n",
              "      <td>Photography</td>\n",
              "      <td>artwork</td>\n",
              "    </tr>\n",
              "  </tbody>\n",
              "</table>\n",
              "</div>"
            ],
            "text/plain": [
              "                          _id  ...  post_type\n",
              "299  5e979490a3258347b42f2b13  ...    artwork\n",
              "242  5e940dd0a3258347b42f27f1  ...    artwork\n",
              "196  5e81c101a3258347b42f22a3  ...    artwork\n",
              "201  5e81c29ea3258347b42f2303  ...    artwork\n",
              "204  5e82390ea3258347b42f2369  ...       blog\n",
              "295  5e9754efa3258347b42f2ae8  ...    artwork\n",
              "258  5e948ce6a3258347b42f28aa  ...    artwork\n",
              "291  5e966ad3a3258347b42f2aaf  ...       blog\n",
              "205  5e8307ada3258347b42f23ec  ...    artwork\n",
              "260  5e948db6a3258347b42f28b2  ...    artwork\n",
              "\n",
              "[10 rows x 4 columns]"
            ]
          },
          "metadata": {
            "tags": []
          },
          "execution_count": 124
        }
      ]
    },
    {
      "cell_type": "markdown",
      "metadata": {
        "id": "08WxlHI12sNR"
      },
      "source": [
        "##  Futher work\n"
      ]
    },
    {
      "cell_type": "markdown",
      "metadata": {
        "id": "DwkXan_j2xEo"
      },
      "source": [
        "> In this attemp, I will use Recurrent Neural Network for predict next item to be viewed. "
      ]
    },
    {
      "cell_type": "code",
      "metadata": {
        "id": "NoAVDN5FCny9"
      },
      "source": [
        "from sklearn.feature_extraction.text import TfidfVectorizer"
      ],
      "execution_count": null,
      "outputs": []
    },
    {
      "cell_type": "code",
      "metadata": {
        "id": "dYcrov2EfZir"
      },
      "source": [
        "class RNN_based_recommender():\n",
        "  def __init__(self,views_df, posts_df, users_df):\n",
        "    self.views_df = views_df\n",
        "    self.posts_df = posts_df \n",
        "    self.users_df = users_df\n",
        "\n",
        "  def get_history_views():\n",
        "    posts_id = self.views_df[self.views_df['user_id']==self.user_id][['post_id']]\n",
        "    posts = self.posts_df._id.apply(lambda x: x in posts_id.values)\n",
        "    self.user_posts =  posts_df[posts]\n",
        "  \n",
        "    \n",
        "  def create_random_list(list_size, population):\n",
        "    sample = [] \n",
        "    count = 0 \n",
        "    while count < list_size: \n",
        "      index = np.random.randint(0, len(population), size=1) \n",
        "      if population[index[0]] != 0: \n",
        "        sample.append(index[0]) \n",
        "        population[index[0]] = 0 \n",
        "        count += 1\n",
        "    return sample, population\n",
        "\n",
        "  def generator(data, labels, pop, count, max_count, batch_size=12):\n",
        "    while 1:\n",
        "      n = batch_size\n",
        "      if count == max_count-1:\n",
        "        n = len(data) - (max_count-1)*batch_size\n",
        "      indices, pop = create_random_list(n,pop)\n",
        "\n",
        "      if count == max_count - 1:\n",
        "        pop = []\n",
        "        for i in range(0, len(data))\n",
        "          pop.append(i+1)\n",
        "        count = -1\n",
        "\n",
        "      np.random.shuffle(indices)\n",
        "      samples = data[indices]\n",
        "      target = labels[indices]\n",
        "      count += 1\n",
        "      yield [samples, target]\n",
        "\n",
        "  def create_model(batch_size):\n",
        "    self.batch_size = batch_size\n",
        "    self.max_count = np.ceil(self.user_posts.shape[0]/batch_size)\n",
        "\n",
        "    model = keras.models.Sequential()\n",
        "    model.add(LSTM(120, input_shape=(994,), return_sequences=True))\n",
        "    model.add(BatchNormalization())\n",
        "    model.add(LSTM(120, return_sequences=False))\n",
        "    \n",
        "\n",
        "\n",
        "\n",
        "  def create_training_data():\n",
        "    tfidf = TfidfVectorizer(stop_words='english')\n",
        "    # replace NaN with an empty string\n",
        "    self.user_posts = self.user_posts.fillna('')\n",
        "    corpus = np.concatenate((np.concatenate((self.user_posts['title'].values, self.user_posts['category'].values)),  self.user_posts[' post_type'].values))\n",
        "    tfidf.fit(corpus) \n",
        "    \n",
        "    training_data = []\n",
        "    for i, row in self.user_posts.iterrows():\n",
        "      str_ = row['title'] + ' ' + row['category'] + ' ' + row[' type_post']\n",
        "      tfidf_embedding = tfidf.transform(str_)\n",
        "      training_data.append(tfidf_embedding)\n",
        "    training_data = np.array(training_data)\n",
        "    self.training_data = training_data\n",
        "    \n",
        "  def recommend(user_id):\n",
        "    self.user_id = user_id\n",
        "    self.get_history_views()\n",
        "\n",
        "\n",
        "    "
      ],
      "execution_count": null,
      "outputs": []
    },
    {
      "cell_type": "code",
      "metadata": {
        "colab": {
          "base_uri": "https://localhost:8080/"
        },
        "id": "o2lRbfNMD7pf",
        "outputId": "320a7e1c-74a4-4ab5-90bc-9ee0e7dc1134"
      },
      "source": [
        "tfidf = TfidfVectorizer(stop_words='english')\n",
        "posts_df = posts_df.fillna('')\n",
        "corpus = np.concatenate((np.concatenate((posts_df['title'].values, posts_df['category'].values)), posts_df[' post_type'].values))\n",
        "tfidf.fit(corpus)"
      ],
      "execution_count": null,
      "outputs": [
        {
          "output_type": "execute_result",
          "data": {
            "text/plain": [
              "TfidfVectorizer(analyzer='word', binary=False, decode_error='strict',\n",
              "                dtype=<class 'numpy.float64'>, encoding='utf-8',\n",
              "                input='content', lowercase=True, max_df=1.0, max_features=None,\n",
              "                min_df=1, ngram_range=(1, 1), norm='l2', preprocessor=None,\n",
              "                smooth_idf=True, stop_words='english', strip_accents=None,\n",
              "                sublinear_tf=False, token_pattern='(?u)\\\\b\\\\w\\\\w+\\\\b',\n",
              "                tokenizer=None, use_idf=True, vocabulary=None)"
            ]
          },
          "metadata": {
            "tags": []
          },
          "execution_count": 150
        }
      ]
    },
    {
      "cell_type": "code",
      "metadata": {
        "id": "aKMJwX-YER5K"
      },
      "source": [
        "vec= tfidf.transform(['Photography']).toarray()"
      ],
      "execution_count": null,
      "outputs": []
    },
    {
      "cell_type": "code",
      "metadata": {
        "colab": {
          "base_uri": "https://localhost:8080/"
        },
        "id": "-cSwPBX5EhZ0",
        "outputId": "52037000-a179-4c69-e27a-2d23852aaa72"
      },
      "source": [
        "vec.shape"
      ],
      "execution_count": null,
      "outputs": [
        {
          "output_type": "execute_result",
          "data": {
            "text/plain": [
              "(1, 994)"
            ]
          },
          "metadata": {
            "tags": []
          },
          "execution_count": 153
        }
      ]
    },
    {
      "cell_type": "code",
      "metadata": {
        "colab": {
          "base_uri": "https://localhost:8080/",
          "height": 406
        },
        "id": "2B71H9JMEnqF",
        "outputId": "d1b590ea-add4-4bc9-bc90-d2200fb2d86d"
      },
      "source": [
        "posts_df[['title', 'category',' post_type']]"
      ],
      "execution_count": null,
      "outputs": [
        {
          "output_type": "execute_result",
          "data": {
            "text/html": [
              "<div>\n",
              "<style scoped>\n",
              "    .dataframe tbody tr th:only-of-type {\n",
              "        vertical-align: middle;\n",
              "    }\n",
              "\n",
              "    .dataframe tbody tr th {\n",
              "        vertical-align: top;\n",
              "    }\n",
              "\n",
              "    .dataframe thead th {\n",
              "        text-align: right;\n",
              "    }\n",
              "</style>\n",
              "<table border=\"1\" class=\"dataframe\">\n",
              "  <thead>\n",
              "    <tr style=\"text-align: right;\">\n",
              "      <th></th>\n",
              "      <th>title</th>\n",
              "      <th>category</th>\n",
              "      <th>post_type</th>\n",
              "    </tr>\n",
              "  </thead>\n",
              "  <tbody>\n",
              "    <tr>\n",
              "      <th>0</th>\n",
              "      <td>hello there</td>\n",
              "      <td>Plant Biotechnology</td>\n",
              "      <td>blog</td>\n",
              "    </tr>\n",
              "    <tr>\n",
              "      <th>1</th>\n",
              "      <td>Ml and AI</td>\n",
              "      <td>Artificial Intelligence|Machine Learning|Infor...</td>\n",
              "      <td>blog</td>\n",
              "    </tr>\n",
              "    <tr>\n",
              "      <th>2</th>\n",
              "      <td>What is an Operating System ?</td>\n",
              "      <td>Operating Systems</td>\n",
              "      <td>blog</td>\n",
              "    </tr>\n",
              "    <tr>\n",
              "      <th>3</th>\n",
              "      <td>Lord Shiva</td>\n",
              "      <td>Drawings</td>\n",
              "      <td>artwork</td>\n",
              "    </tr>\n",
              "    <tr>\n",
              "      <th>4</th>\n",
              "      <td>How Competition law evolved?</td>\n",
              "      <td>Competition Laws</td>\n",
              "      <td>blog</td>\n",
              "    </tr>\n",
              "    <tr>\n",
              "      <th>...</th>\n",
              "      <td>...</td>\n",
              "      <td>...</td>\n",
              "      <td>...</td>\n",
              "    </tr>\n",
              "    <tr>\n",
              "      <th>488</th>\n",
              "      <td>CI/CD using GitHub Actions</td>\n",
              "      <td>Computer Technology|Information Technology</td>\n",
              "      <td>blog</td>\n",
              "    </tr>\n",
              "    <tr>\n",
              "      <th>489</th>\n",
              "      <td>Configure Docker with Django; PostgreSQL; Pg-a...</td>\n",
              "      <td>Computer Technology|Computer Application|Infor...</td>\n",
              "      <td>blog</td>\n",
              "    </tr>\n",
              "    <tr>\n",
              "      <th>490</th>\n",
              "      <td>Recommendation Engine</td>\n",
              "      <td>NaN</td>\n",
              "      <td>project</td>\n",
              "    </tr>\n",
              "    <tr>\n",
              "      <th>491</th>\n",
              "      <td>Face Recognition using Transfer Learning.</td>\n",
              "      <td>Science; Technology</td>\n",
              "      <td>skill</td>\n",
              "    </tr>\n",
              "    <tr>\n",
              "      <th>492</th>\n",
              "      <td>Configure CI/CD Pipeline in GitLab and deploym...</td>\n",
              "      <td>Computer Technology|Computer Application|Infor...</td>\n",
              "      <td>blog</td>\n",
              "    </tr>\n",
              "  </tbody>\n",
              "</table>\n",
              "<p>493 rows × 3 columns</p>\n",
              "</div>"
            ],
            "text/plain": [
              "                                                 title  ...  post_type\n",
              "0                                          hello there  ...       blog\n",
              "1                                            Ml and AI  ...       blog\n",
              "2                        What is an Operating System ?  ...       blog\n",
              "3                                           Lord Shiva  ...    artwork\n",
              "4                         How Competition law evolved?  ...       blog\n",
              "..                                                 ...  ...        ...\n",
              "488                         CI/CD using GitHub Actions  ...       blog\n",
              "489  Configure Docker with Django; PostgreSQL; Pg-a...  ...       blog\n",
              "490                              Recommendation Engine  ...    project\n",
              "491          Face Recognition using Transfer Learning.  ...      skill\n",
              "492  Configure CI/CD Pipeline in GitLab and deploym...  ...       blog\n",
              "\n",
              "[493 rows x 3 columns]"
            ]
          },
          "metadata": {
            "tags": []
          },
          "execution_count": 138
        }
      ]
    }
  ]
}